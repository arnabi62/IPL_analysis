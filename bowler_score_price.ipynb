{
 "cells": [
  {
   "cell_type": "code",
   "execution_count": 1,
   "metadata": {},
   "outputs": [],
   "source": [
    "import pandas as pd\n",
    "from statistics import mean\n",
    "import numpy as np\n",
    "from scipy import ndimage\n",
    "import matplotlib.pyplot as plt  \n",
    "%matplotlib inline\n",
    "import numpy as np  \n",
    "from sklearn.cluster import KMeans"
   ]
  },
  {
   "cell_type": "code",
   "execution_count": 2,
   "metadata": {},
   "outputs": [
    {
     "data": {
      "text/html": [
       "<div>\n",
       "<style scoped>\n",
       "    .dataframe tbody tr th:only-of-type {\n",
       "        vertical-align: middle;\n",
       "    }\n",
       "\n",
       "    .dataframe tbody tr th {\n",
       "        vertical-align: top;\n",
       "    }\n",
       "\n",
       "    .dataframe thead th {\n",
       "        text-align: right;\n",
       "    }\n",
       "</style>\n",
       "<table border=\"1\" class=\"dataframe\">\n",
       "  <thead>\n",
       "    <tr style=\"text-align: right;\">\n",
       "      <th></th>\n",
       "      <th>Player</th>\n",
       "      <th>score</th>\n",
       "      <th>price</th>\n",
       "    </tr>\n",
       "  </thead>\n",
       "  <tbody>\n",
       "    <tr>\n",
       "      <th>0</th>\n",
       "      <td>K Sharma</td>\n",
       "      <td>616.826099</td>\n",
       "      <td>50000000</td>\n",
       "    </tr>\n",
       "    <tr>\n",
       "      <th>1</th>\n",
       "      <td>Kuldeep Jadav</td>\n",
       "      <td>498.664184</td>\n",
       "      <td>58000000</td>\n",
       "    </tr>\n",
       "    <tr>\n",
       "      <th>2</th>\n",
       "      <td>A Mishra</td>\n",
       "      <td>492.622360</td>\n",
       "      <td>40000000</td>\n",
       "    </tr>\n",
       "    <tr>\n",
       "      <th>3</th>\n",
       "      <td>A Tye</td>\n",
       "      <td>1007.218829</td>\n",
       "      <td>72000000</td>\n",
       "    </tr>\n",
       "    <tr>\n",
       "      <th>4</th>\n",
       "      <td>S Thakur</td>\n",
       "      <td>482.132651</td>\n",
       "      <td>22000000</td>\n",
       "    </tr>\n",
       "    <tr>\n",
       "      <th>5</th>\n",
       "      <td>A Russel</td>\n",
       "      <td>477.855495</td>\n",
       "      <td>85000000</td>\n",
       "    </tr>\n",
       "    <tr>\n",
       "      <th>6</th>\n",
       "      <td>T Boult</td>\n",
       "      <td>467.362505</td>\n",
       "      <td>22000000</td>\n",
       "    </tr>\n",
       "    <tr>\n",
       "      <th>7</th>\n",
       "      <td>D Christian</td>\n",
       "      <td>417.787762</td>\n",
       "      <td>15000000</td>\n",
       "    </tr>\n",
       "    <tr>\n",
       "      <th>8</th>\n",
       "      <td>S Narine</td>\n",
       "      <td>395.363891</td>\n",
       "      <td>125000000</td>\n",
       "    </tr>\n",
       "    <tr>\n",
       "      <th>9</th>\n",
       "      <td>P Chawala</td>\n",
       "      <td>377.007539</td>\n",
       "      <td>42000000</td>\n",
       "    </tr>\n",
       "    <tr>\n",
       "      <th>10</th>\n",
       "      <td>DJ Bravo</td>\n",
       "      <td>348.168775</td>\n",
       "      <td>64000000</td>\n",
       "    </tr>\n",
       "    <tr>\n",
       "      <th>11</th>\n",
       "      <td>R Jadeja</td>\n",
       "      <td>325.028705</td>\n",
       "      <td>70000000</td>\n",
       "    </tr>\n",
       "    <tr>\n",
       "      <th>12</th>\n",
       "      <td>M Stoinis</td>\n",
       "      <td>307.339306</td>\n",
       "      <td>62000000</td>\n",
       "    </tr>\n",
       "    <tr>\n",
       "      <th>13</th>\n",
       "      <td>M Sharma</td>\n",
       "      <td>246.052496</td>\n",
       "      <td>24000000</td>\n",
       "    </tr>\n",
       "    <tr>\n",
       "      <th>14</th>\n",
       "      <td>Harbhajan Singh</td>\n",
       "      <td>220.842089</td>\n",
       "      <td>20000000</td>\n",
       "    </tr>\n",
       "    <tr>\n",
       "      <th>15</th>\n",
       "      <td>C Morris</td>\n",
       "      <td>205.233598</td>\n",
       "      <td>110000000</td>\n",
       "    </tr>\n",
       "    <tr>\n",
       "      <th>16</th>\n",
       "      <td>SR Watson</td>\n",
       "      <td>204.137528</td>\n",
       "      <td>40000000</td>\n",
       "    </tr>\n",
       "    <tr>\n",
       "      <th>17</th>\n",
       "      <td>R Ashwin</td>\n",
       "      <td>178.917846</td>\n",
       "      <td>76000000</td>\n",
       "    </tr>\n",
       "    <tr>\n",
       "      <th>18</th>\n",
       "      <td>M Shami</td>\n",
       "      <td>117.412233</td>\n",
       "      <td>30000000</td>\n",
       "    </tr>\n",
       "    <tr>\n",
       "      <th>19</th>\n",
       "      <td>S Nadim</td>\n",
       "      <td>110.673554</td>\n",
       "      <td>32000000</td>\n",
       "    </tr>\n",
       "    <tr>\n",
       "      <th>20</th>\n",
       "      <td>S Mavi</td>\n",
       "      <td>69.779945</td>\n",
       "      <td>30000000</td>\n",
       "    </tr>\n",
       "    <tr>\n",
       "      <th>21</th>\n",
       "      <td>A Patel</td>\n",
       "      <td>-26.462080</td>\n",
       "      <td>125000000</td>\n",
       "    </tr>\n",
       "    <tr>\n",
       "      <th>22</th>\n",
       "      <td>M Johnson</td>\n",
       "      <td>-159.846272</td>\n",
       "      <td>20000000</td>\n",
       "    </tr>\n",
       "  </tbody>\n",
       "</table>\n",
       "</div>"
      ],
      "text/plain": [
       "             Player        score      price\n",
       "0          K Sharma   616.826099   50000000\n",
       "1     Kuldeep Jadav   498.664184   58000000\n",
       "2          A Mishra   492.622360   40000000\n",
       "3             A Tye  1007.218829   72000000\n",
       "4          S Thakur   482.132651   22000000\n",
       "5          A Russel   477.855495   85000000\n",
       "6           T Boult   467.362505   22000000\n",
       "7       D Christian   417.787762   15000000\n",
       "8          S Narine   395.363891  125000000\n",
       "9         P Chawala   377.007539   42000000\n",
       "10         DJ Bravo   348.168775   64000000\n",
       "11         R Jadeja   325.028705   70000000\n",
       "12        M Stoinis   307.339306   62000000\n",
       "13         M Sharma   246.052496   24000000\n",
       "14  Harbhajan Singh   220.842089   20000000\n",
       "15         C Morris   205.233598  110000000\n",
       "16        SR Watson   204.137528   40000000\n",
       "17         R Ashwin   178.917846   76000000\n",
       "18          M Shami   117.412233   30000000\n",
       "19          S Nadim   110.673554   32000000\n",
       "20           S Mavi    69.779945   30000000\n",
       "21          A Patel   -26.462080  125000000\n",
       "22        M Johnson  -159.846272   20000000"
      ]
     },
     "execution_count": 2,
     "metadata": {},
     "output_type": "execute_result"
    }
   ],
   "source": [
    "file=pd.read_csv(\"C:\\\\Users\\\\Amit Kumar Mitra\\\\Desktop\\\\bowler\\\\bowler_point.csv\")\n",
    "file"
   ]
  },
  {
   "cell_type": "code",
   "execution_count": 4,
   "metadata": {},
   "outputs": [],
   "source": [
    "player=file[\"Player\"]\n",
    "score=file[\"score\"]\n",
    "price=file[\"price\"]"
   ]
  },
  {
   "cell_type": "code",
   "execution_count": 5,
   "metadata": {},
   "outputs": [
    {
     "data": {
      "text/plain": [
       "Text(0.5,1,'score vs price')"
      ]
     },
     "execution_count": 5,
     "metadata": {},
     "output_type": "execute_result"
    },
    {
     "data": {
      "image/png": "[encoded data removed]",
      "text/plain": [
       "<Figure size 432x288 with 1 Axes>"
      ]
     },
     "metadata": {},
     "output_type": "display_data"
    }
   ],
   "source": [
    "plt.scatter(score,price)\n",
    "plt.grid()\n",
    "plt.xlabel(\"Score\")\n",
    "plt.ylabel(\"Price\")\n",
    "plt.title(\"score vs price\")"
   ]
  },
  {
   "cell_type": "code",
   "execution_count": 6,
   "metadata": {},
   "outputs": [],
   "source": [
    "o_train = []\n",
    "for i in range(len(player)):\n",
    "    ar = []\n",
    "    ar.append(score[i])\n",
    "    ar.append(price[i])\n",
    "    o_train.append(ar) \n",
    "O=np.array(o_train)"
   ]
  },
  {
   "cell_type": "code",
   "execution_count": 8,
   "metadata": {},
   "outputs": [
    {
     "name": "stdout",
     "output_type": "stream",
     "text": [
      "[[2.79055205e+02 2.05000000e+07]\n",
      " [4.97255219e+02 7.57500000e+07]\n",
      " [1.91378470e+02 1.20000000e+08]\n",
      " [4.42749591e+02 5.85000000e+07]\n",
      " [2.28605526e+02 3.56666667e+07]]\n",
      "[3 3 4 1 0 1 0 0 2 4 3 1 3 0 0 2 4 1 4 4 4 2 0]\n"
     ]
    },
    {
     "data": {
      "text/plain": [
       "<matplotlib.collections.PathCollection at 0x51d7c10>"
      ]
     },
     "execution_count": 8,
     "metadata": {},
     "output_type": "execute_result"
    },
    {
     "data": {
      "image/png": "[encoded data removed]",
      "text/plain": [
       "<Figure size 432x288 with 1 Axes>"
      ]
     },
     "metadata": {},
     "output_type": "display_data"
    }
   ],
   "source": [
    "kmeans = KMeans(n_clusters = 5)\n",
    "kmeans.fit(O)\n",
    "print(kmeans.cluster_centers_)\n",
    "print(kmeans.labels_)\n",
    "plt.scatter(O[:,0],O[:,1], c = kmeans.labels_, cmap= 'rainbow')"
   ]
  },
  {
   "cell_type": "code",
   "execution_count": null,
   "metadata": {},
   "outputs": [],
   "source": []
  }
 ],
 "metadata": {
  "kernelspec": {
   "display_name": "Python 3",
   "language": "python",
   "name": "python3"
  },
  "language_info": {
   "codemirror_mode": {
    "name": "ipython",
    "version": 3
   },
   "file_extension": ".py",
   "mimetype": "text/x-python",
   "name": "python",
   "nbconvert_exporter": "python",
   "pygments_lexer": "ipython3",
   "version": "3.6.5"
  }
 },
 "nbformat": 4,
 "nbformat_minor": 2
}
